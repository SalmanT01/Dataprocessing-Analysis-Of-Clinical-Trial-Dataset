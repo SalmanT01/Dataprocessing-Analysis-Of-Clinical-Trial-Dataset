{
 "cells": [
  {
   "cell_type": "markdown",
   "metadata": {
    "application/vnd.databricks.v1+cell": {
     "cellMetadata": {
      "byteLimit": 2048000,
      "rowLimit": 10000
     },
     "inputWidgets": {},
     "nuid": "daa017d2-3199-4db0-a606-fad10734751d",
     "showTitle": false,
     "title": ""
    }
   },
   "source": [
    "#### Upload Zip files and Access Folder having Zip files "
   ]
  },
  {
   "cell_type": "code",
   "execution_count": 0,
   "metadata": {
    "application/vnd.databricks.v1+cell": {
     "cellMetadata": {
      "byteLimit": 2048000,
      "rowLimit": 10000
     },
     "inputWidgets": {},
     "nuid": "68f9e6f5-a310-4e7e-bc8c-45b1ee942d2d",
     "showTitle": false,
     "title": ""
    }
   },
   "outputs": [
    {
     "output_type": "stream",
     "name": "stdout",
     "output_type": "stream",
     "text": [
      "Out[1]: [FileInfo(path='dbfs:/FileStore/tables/Occupancy_Detection_Data.csv', name='Occupancy_Detection_Data.csv', size=50968, modificationTime=1709137232000),\n FileInfo(path='dbfs:/FileStore/tables/TESTRDD.csv/', name='TESTRDD.csv/', size=0, modificationTime=0),\n FileInfo(path='dbfs:/FileStore/tables/TS021_2021_2.csv', name='TS021_2021_2.csv', size=497239, modificationTime=1710957134000),\n FileInfo(path='dbfs:/FileStore/tables/account-model-phoneNr/', name='account-model-phoneNr/', size=0, modificationTime=0),\n FileInfo(path='dbfs:/FileStore/tables/accounts/', name='accounts/', size=0, modificationTime=0),\n FileInfo(path='dbfs:/FileStore/tables/accounts.zip', name='accounts.zip', size=5297592, modificationTime=1706721655000),\n FileInfo(path='dbfs:/FileStore/tables/activations/', name='activations/', size=0, modificationTime=0),\n FileInfo(path='dbfs:/FileStore/tables/activations.zip', name='activations.zip', size=8411369, modificationTime=1706717453000),\n FileInfo(path='dbfs:/FileStore/tables/clinicaltrial_2020-1.zip', name='clinicaltrial_2020-1.zip', size=10599182, modificationTime=1712331983000),\n FileInfo(path='dbfs:/FileStore/tables/clinicaltrial_2020.csv', name='clinicaltrial_2020.csv', size=46318151, modificationTime=1712332221000),\n FileInfo(path='dbfs:/FileStore/tables/clinicaltrial_2020.zip', name='clinicaltrial_2020.zip', size=10599182, modificationTime=1712331946000),\n FileInfo(path='dbfs:/FileStore/tables/clinicaltrial_2021-1.zip', name='clinicaltrial_2021-1.zip', size=11508457, modificationTime=1712331986000),\n FileInfo(path='dbfs:/FileStore/tables/clinicaltrial_2021.csv', name='clinicaltrial_2021.csv', size=50359696, modificationTime=1712332231000),\n FileInfo(path='dbfs:/FileStore/tables/clinicaltrial_2021.zip', name='clinicaltrial_2021.zip', size=11508457, modificationTime=1712331947000),\n FileInfo(path='dbfs:/FileStore/tables/clinicaltrial_2023.csv', name='clinicaltrial_2023.csv', size=292436366, modificationTime=1714510009000),\n FileInfo(path='dbfs:/FileStore/tables/clinicaltrial_2023.zip', name='clinicaltrial_2023.zip', size=57166668, modificationTime=1712241857000),\n FileInfo(path='dbfs:/FileStore/tables/ethnic.csv/', name='ethnic.csv/', size=0, modificationTime=0),\n FileInfo(path='dbfs:/FileStore/tables/logs/', name='logs/', size=0, modificationTime=0),\n FileInfo(path='dbfs:/FileStore/tables/logs.zip', name='logs.zip', size=18168065, modificationTime=1706721657000),\n FileInfo(path='dbfs:/FileStore/tables/movies.csv', name='movies.csv', size=494431, modificationTime=1709743157000),\n FileInfo(path='dbfs:/FileStore/tables/myratings.csv', name='myratings.csv', size=10687, modificationTime=1709743157000),\n FileInfo(path='dbfs:/FileStore/tables/pharma.csv', name='pharma.csv', size=678999, modificationTime=1714510013000),\n FileInfo(path='dbfs:/FileStore/tables/pharma.zip', name='pharma.zip', size=109982, modificationTime=1712241801000),\n FileInfo(path='dbfs:/FileStore/tables/purplecow.txt', name='purplecow.txt', size=111, modificationTime=1706717402000),\n FileInfo(path='dbfs:/FileStore/tables/ratings.csv', name='ratings.csv', size=2483723, modificationTime=1709743158000),\n FileInfo(path='dbfs:/FileStore/tables/steam_200k.csv', name='steam_200k.csv', size=8059447, modificationTime=1712784640000),\n FileInfo(path='dbfs:/FileStore/tables/webpage/', name='webpage/', size=0, modificationTime=0),\n FileInfo(path='dbfs:/FileStore/tables/webpage.zip', name='webpage.zip', size=1582, modificationTime=1707413758000),\n FileInfo(path='dbfs:/FileStore/tables/webpage_files_all/', name='webpage_files_all/', size=0, modificationTime=0),\n FileInfo(path='dbfs:/FileStore/tables/webpage_files_jpg/', name='webpage_files_jpg/', size=0, modificationTime=0)]"
     ]
    }
   ],
   "source": [
    "dbutils.fs.ls(\"FileStore/tables/\")"
   ]
  },
  {
   "cell_type": "markdown",
   "metadata": {
    "application/vnd.databricks.v1+cell": {
     "cellMetadata": {
      "byteLimit": 2048000,
      "rowLimit": 10000
     },
     "inputWidgets": {},
     "nuid": "20ebc649-979e-4e03-b27d-51ae95eaff1b",
     "showTitle": false,
     "title": ""
    }
   },
   "source": [
    "#### Copy files to Local File System"
   ]
  },
  {
   "cell_type": "code",
   "execution_count": 0,
   "metadata": {
    "application/vnd.databricks.v1+cell": {
     "cellMetadata": {
      "byteLimit": 2048000,
      "rowLimit": 10000
     },
     "inputWidgets": {},
     "nuid": "eae03bb1-4a08-4232-88c2-1aee83dba612",
     "showTitle": false,
     "title": ""
    }
   },
   "outputs": [
    {
     "output_type": "stream",
     "name": "stdout",
     "output_type": "stream",
     "text": [
      "Out[2]: True"
     ]
    }
   ],
   "source": [
    "\n",
    "#dbutils.fs.rm(\"file:/tmp/Assessment_Task1_Folder\", True)\n",
    "\n",
    "dbutils.fs.mkdirs(\"file:/tmp/Assessment_Task1_Folder/\")\n",
    "\n",
    "# Copy Clinical_Trial_2023.zip file TO Assessment_Task1_Folder\n",
    "dbutils.fs.cp(\"dbfs:/FileStore/tables/clinicaltrial_2023.zip\", \"file:/tmp/Assessment_Task1_Folder/\")\n",
    "\n",
    "# Copy pharma.zip file TO Assessment_Task1_Folder\n",
    "dbutils.fs.cp(\"dbfs:/FileStore/tables/pharma.zip\", \"file:/tmp/Assessment_Task1_Folder/\")\n"
   ]
  },
  {
   "cell_type": "markdown",
   "metadata": {
    "application/vnd.databricks.v1+cell": {
     "cellMetadata": {
      "byteLimit": 2048000,
      "rowLimit": 10000
     },
     "inputWidgets": {},
     "nuid": "1075926e-c869-4d72-b52f-c9d40c73621b",
     "showTitle": false,
     "title": ""
    }
   },
   "source": [
    "#### Unzip Files with Shell Command "
   ]
  },
  {
   "cell_type": "code",
   "execution_count": 0,
   "metadata": {
    "application/vnd.databricks.v1+cell": {
     "cellMetadata": {
      "byteLimit": 2048000,
      "rowLimit": 10000
     },
     "inputWidgets": {},
     "nuid": "fe625284-9cbd-4983-aa65-2a144d7d30ff",
     "showTitle": false,
     "title": ""
    }
   },
   "outputs": [
    {
     "output_type": "stream",
     "name": "stdout",
     "output_type": "stream",
     "text": [
      "clinicaltrial_2023.zip\npharma.zip\nArchive:  /tmp/Assessment_Task1_Folder/clinicaltrial_2023.zip\n  inflating: /tmp/Assessment_Task1_Folder/clinicaltrial_2023.csv  \n"
     ]
    }
   ],
   "source": [
    "%sh\n",
    "\n",
    "ls /tmp/Assessment_Task1_Folder\n",
    "\n",
    "# Unzip clinicaltrial_2023.zip\n",
    "yes y | unzip -d /tmp/Assessment_Task1_Folder/  /tmp/Assessment_Task1_Folder/clinicaltrial_2023.zip \n"
   ]
  },
  {
   "cell_type": "code",
   "execution_count": 0,
   "metadata": {
    "application/vnd.databricks.v1+cell": {
     "cellMetadata": {
      "byteLimit": 2048000,
      "rowLimit": 10000
     },
     "inputWidgets": {},
     "nuid": "26c0ca13-ecbd-47c8-801b-dfbb431b9c45",
     "showTitle": false,
     "title": ""
    }
   },
   "outputs": [
    {
     "output_type": "stream",
     "name": "stdout",
     "output_type": "stream",
     "text": [
      "Archive:  /tmp/Assessment_Task1_Folder/pharma.zip\n  inflating: /tmp/Assessment_Task1_Folder/pharma.csv  \n"
     ]
    }
   ],
   "source": [
    "%sh\n",
    "\n",
    "# Unzip pharma.zip\n",
    "yes y | unzip -d /tmp/Assessment_Task1_Folder/  /tmp/Assessment_Task1_Folder/pharma.zip"
   ]
  },
  {
   "cell_type": "code",
   "execution_count": 0,
   "metadata": {
    "application/vnd.databricks.v1+cell": {
     "cellMetadata": {
      "byteLimit": 2048000,
      "rowLimit": 10000
     },
     "inputWidgets": {},
     "nuid": "f4c6e117-cf19-428a-a8d3-bd00f177b808",
     "showTitle": false,
     "title": ""
    }
   },
   "outputs": [
    {
     "output_type": "stream",
     "name": "stdout",
     "output_type": "stream",
     "text": [
      "clinicaltrial_2023.csv\nclinicaltrial_2023.zip\npharma.csv\npharma.zip\n"
     ]
    }
   ],
   "source": [
    "%sh\n",
    "ls /tmp/Assessment_Task1_Folder/"
   ]
  },
  {
   "cell_type": "markdown",
   "metadata": {
    "application/vnd.databricks.v1+cell": {
     "cellMetadata": {
      "byteLimit": 2048000,
      "rowLimit": 10000
     },
     "inputWidgets": {},
     "nuid": "2947854c-796e-4623-bb73-260819686565",
     "showTitle": false,
     "title": ""
    }
   },
   "source": [
    "#### Copy Unzipped .csv files back to DBFS File System (Tables Folder)"
   ]
  },
  {
   "cell_type": "code",
   "execution_count": 0,
   "metadata": {
    "application/vnd.databricks.v1+cell": {
     "cellMetadata": {
      "byteLimit": 2048000,
      "rowLimit": 10000
     },
     "inputWidgets": {},
     "nuid": "8a4f8937-75d3-41a4-8a17-0f037967bdc8",
     "showTitle": false,
     "title": ""
    }
   },
   "outputs": [
    {
     "output_type": "stream",
     "name": "stdout",
     "output_type": "stream",
     "text": [
      "Out[6]: [FileInfo(path='dbfs:/FileStore/tables/Occupancy_Detection_Data.csv', name='Occupancy_Detection_Data.csv', size=50968, modificationTime=1709137232000),\n FileInfo(path='dbfs:/FileStore/tables/TESTRDD.csv/', name='TESTRDD.csv/', size=0, modificationTime=0),\n FileInfo(path='dbfs:/FileStore/tables/TS021_2021_2.csv', name='TS021_2021_2.csv', size=497239, modificationTime=1710957134000),\n FileInfo(path='dbfs:/FileStore/tables/account-model-phoneNr/', name='account-model-phoneNr/', size=0, modificationTime=0),\n FileInfo(path='dbfs:/FileStore/tables/accounts/', name='accounts/', size=0, modificationTime=0),\n FileInfo(path='dbfs:/FileStore/tables/accounts.zip', name='accounts.zip', size=5297592, modificationTime=1706721655000),\n FileInfo(path='dbfs:/FileStore/tables/activations/', name='activations/', size=0, modificationTime=0),\n FileInfo(path='dbfs:/FileStore/tables/activations.zip', name='activations.zip', size=8411369, modificationTime=1706717453000),\n FileInfo(path='dbfs:/FileStore/tables/clinicaltrial_2020-1.zip', name='clinicaltrial_2020-1.zip', size=10599182, modificationTime=1712331983000),\n FileInfo(path='dbfs:/FileStore/tables/clinicaltrial_2020.csv', name='clinicaltrial_2020.csv', size=46318151, modificationTime=1712332221000),\n FileInfo(path='dbfs:/FileStore/tables/clinicaltrial_2020.zip', name='clinicaltrial_2020.zip', size=10599182, modificationTime=1712331946000),\n FileInfo(path='dbfs:/FileStore/tables/clinicaltrial_2021-1.zip', name='clinicaltrial_2021-1.zip', size=11508457, modificationTime=1712331986000),\n FileInfo(path='dbfs:/FileStore/tables/clinicaltrial_2021.csv', name='clinicaltrial_2021.csv', size=50359696, modificationTime=1712332231000),\n FileInfo(path='dbfs:/FileStore/tables/clinicaltrial_2021.zip', name='clinicaltrial_2021.zip', size=11508457, modificationTime=1712331947000),\n FileInfo(path='dbfs:/FileStore/tables/clinicaltrial_2023.csv', name='clinicaltrial_2023.csv', size=292436366, modificationTime=1714516895000),\n FileInfo(path='dbfs:/FileStore/tables/clinicaltrial_2023.zip', name='clinicaltrial_2023.zip', size=57166668, modificationTime=1712241857000),\n FileInfo(path='dbfs:/FileStore/tables/ethnic.csv/', name='ethnic.csv/', size=0, modificationTime=0),\n FileInfo(path='dbfs:/FileStore/tables/logs/', name='logs/', size=0, modificationTime=0),\n FileInfo(path='dbfs:/FileStore/tables/logs.zip', name='logs.zip', size=18168065, modificationTime=1706721657000),\n FileInfo(path='dbfs:/FileStore/tables/movies.csv', name='movies.csv', size=494431, modificationTime=1709743157000),\n FileInfo(path='dbfs:/FileStore/tables/myratings.csv', name='myratings.csv', size=10687, modificationTime=1709743157000),\n FileInfo(path='dbfs:/FileStore/tables/pharma.csv', name='pharma.csv', size=678999, modificationTime=1714516901000),\n FileInfo(path='dbfs:/FileStore/tables/pharma.zip', name='pharma.zip', size=109982, modificationTime=1712241801000),\n FileInfo(path='dbfs:/FileStore/tables/purplecow.txt', name='purplecow.txt', size=111, modificationTime=1706717402000),\n FileInfo(path='dbfs:/FileStore/tables/ratings.csv', name='ratings.csv', size=2483723, modificationTime=1709743158000),\n FileInfo(path='dbfs:/FileStore/tables/steam_200k.csv', name='steam_200k.csv', size=8059447, modificationTime=1712784640000),\n FileInfo(path='dbfs:/FileStore/tables/webpage/', name='webpage/', size=0, modificationTime=0),\n FileInfo(path='dbfs:/FileStore/tables/webpage.zip', name='webpage.zip', size=1582, modificationTime=1707413758000),\n FileInfo(path='dbfs:/FileStore/tables/webpage_files_all/', name='webpage_files_all/', size=0, modificationTime=0),\n FileInfo(path='dbfs:/FileStore/tables/webpage_files_jpg/', name='webpage_files_jpg/', size=0, modificationTime=0)]"
     ]
    }
   ],
   "source": [
    "# Copy clinicalTrial_2023.csv file back to DBFS system\n",
    "dbutils.fs.cp(\"file:/tmp/Assessment_Task1_Folder/clinicaltrial_2023.csv\", \"dbfs:/FileStore/tables/\", recurse=True)\n",
    "\n",
    "# Copy pharma.csv file back to DBFS system\n",
    "dbutils.fs.cp(\"file:/tmp/Assessment_Task1_Folder/pharma.csv\", \"dbfs:/FileStore/tables/\", recurse=True)\n",
    "\n",
    "dbutils.fs.ls(\"dbfs:/FileStore/tables/\")"
   ]
  },
  {
   "cell_type": "markdown",
   "metadata": {
    "application/vnd.databricks.v1+cell": {
     "cellMetadata": {
      "byteLimit": 2048000,
      "rowLimit": 10000
     },
     "inputWidgets": {},
     "nuid": "36d7bdf1-8a71-4e06-8a66-7a7d9e335584",
     "showTitle": false,
     "title": ""
    }
   },
   "source": [
    "#### Clinical Dataset 2023 Raw Format"
   ]
  },
  {
   "cell_type": "code",
   "execution_count": 0,
   "metadata": {
    "application/vnd.databricks.v1+cell": {
     "cellMetadata": {
      "byteLimit": 2048000,
      "rowLimit": 10000
     },
     "inputWidgets": {},
     "nuid": "70346393-a0ed-46d3-b5c8-47e8e14115ac",
     "showTitle": false,
     "title": ""
    }
   },
   "outputs": [
    {
     "output_type": "stream",
     "name": "stdout",
     "output_type": "stream",
     "text": [
      "Out[7]: ['\"Id\\tStudy Title\\tAcronym\\tStatus\\tConditions\\tInterventions\\tSponsor\\tCollaborators\\tEnrollment\\tFunder Type\\tType\\tStudy Design\\tStart\\tCompletion\",,,,,,,,,,,,,,,,,,,,,,,,,,,,,,,,,,,,,,,,,,,,,,,,,,,,,,,,,,,,,,,,,,,,,,,,,,,,,,,,,,,,,,,,,,,,,,,,,,,,,,,,,,,,,,,,,,,,,,,,,,,,,,,,,,,,,,,,,,,,,,,,,,,,,,,,,,,,,,,,,,,,,,,,,,,,,,,,,,,,,,,,,,,,,,,,,,,,,,,,,,,,,,,,,,',\n '\"NCT03630471\\tEffectiveness of a Problem-solving Intervention for Common Adolescent Mental Health Problems in India\\tPRIDE\\tCOMPLETED\\tMental Health Issue (E.G.\", Depression, Psychosis, Personality Disorder,\" Substance Abuse)\\tBEHAVIORAL: PRIDE \\'Step 1\\' problem-solving intervention|BEHAVIORAL: Enhanced usual care\\tSangath\\tHarvard Medical School (HMS and HSDM)|London School of Hygiene and Tropical Medicine\\t250.0\\tOTHER\\tINTERVENTIONAL\\tAllocation: RANDOMIZED|Intervention Model: PARALLEL|Masking: DOUBLE (INVESTIGATOR\",\" OUTCOMES_ASSESSOR)|Primary Purpose: TREATMENT\\t2018-08-20\\t2019-02-28\",,,,,,,,,,,,,,,,,,,,,,,,,,,,,,,,,,,,,,,,,,,,,,,,,,,,,,,,,,,,,,,,,,,,,,,,,,,,,,,,,,,,,,,,,,,,,,,,,,,,,,,,,,,,,,,,,,,,,,,,,,,,,,,,,,,,,,,,,,,,,,,,,,,,,,,,,,,,,,,,,,,,,,,,,,,,,,,,,,,,,,,,,,,,,,,,,,,,,,,,,,,,,']"
     ]
    }
   ],
   "source": [
    "from pyspark.sql.types import *\n",
    "\n",
    "# Create and display RDD in Raw format\n",
    "RDD = sc.textFile(\"/FileStore/tables/clinicaltrial_2023.csv\")\n",
    "RDD.take(2)\n",
    "\n"
   ]
  },
  {
   "cell_type": "markdown",
   "metadata": {
    "application/vnd.databricks.v1+cell": {
     "cellMetadata": {
      "byteLimit": 2048000,
      "rowLimit": 10000
     },
     "inputWidgets": {},
     "nuid": "6881e9d1-2c44-4db2-9ce0-de2802a30d7a",
     "showTitle": false,
     "title": ""
    }
   },
   "source": [
    "#### ClinicalTrial2023 Dataset Cleaning step "
   ]
  },
  {
   "cell_type": "code",
   "execution_count": 0,
   "metadata": {
    "application/vnd.databricks.v1+cell": {
     "cellMetadata": {
      "byteLimit": 2048000,
      "rowLimit": 10000
     },
     "inputWidgets": {},
     "nuid": "69cb9e47-eaa9-4d0b-be5f-55b38c0e5b85",
     "showTitle": false,
     "title": ""
    }
   },
   "outputs": [
    {
     "output_type": "stream",
     "name": "stdout",
     "output_type": "stream",
     "text": [
      "Out[8]: [['Id',\n  'Study Title',\n  'Acronym',\n  'Status',\n  'Conditions',\n  'Interventions',\n  'Sponsor',\n  'Collaborators',\n  'Enrollment',\n  'Funder Type',\n  'Type',\n  'Study Design',\n  'Start',\n  'Completion'],\n ['NCT03630471',\n  'Effectiveness of a Problem-solving Intervention for Common Adolescent Mental Health Problems in India',\n  'PRIDE',\n  'COMPLETED',\n  'Mental Health Issue (E.G., Depression, Psychosis, Personality Disorder, Substance Abuse)',\n  \"BEHAVIORAL: PRIDE 'Step 1' problem-solving intervention|BEHAVIORAL: Enhanced usual care\",\n  'Sangath',\n  'Harvard Medical School (HMS and HSDM)|London School of Hygiene and Tropical Medicine',\n  '250.0',\n  'OTHER',\n  'INTERVENTIONAL',\n  'Allocation: RANDOMIZED|Intervention Model: PARALLEL|Masking: DOUBLE (INVESTIGATOR, OUTCOMES_ASSESSOR)|Primary Purpose: TREATMENT',\n  '2018-08-20',\n  '2019-02-28']]"
     ]
    }
   ],
   "source": [
    "#ClinicalTrial2023 Dataset Cleaning step\n",
    "RDD1 = RDD.map(lambda line: line.replace('\"', \"\").strip(\",\"))\n",
    "RDD3 = RDD1.map(lambda line: line.split('\\t'))\n",
    "\n",
    "RDD3.take(2)\n"
   ]
  },
  {
   "cell_type": "markdown",
   "metadata": {
    "application/vnd.databricks.v1+cell": {
     "cellMetadata": {
      "byteLimit": 2048000,
      "rowLimit": 10000
     },
     "inputWidgets": {},
     "nuid": "aa9dce83-c4b7-4e71-a0bb-2cf324f5ac6d",
     "showTitle": false,
     "title": ""
    }
   },
   "source": [
    "#### For Clinical Trials 2023\n",
    "#### Find Number of Distinct Studies in Dataset"
   ]
  },
  {
   "cell_type": "code",
   "execution_count": 0,
   "metadata": {
    "application/vnd.databricks.v1+cell": {
     "cellMetadata": {
      "byteLimit": 2048000,
      "rowLimit": 10000
     },
     "inputWidgets": {},
     "nuid": "d02a4d99-ca12-4a7f-ace3-5cb2d29f78aa",
     "showTitle": false,
     "title": ""
    }
   },
   "outputs": [
    {
     "output_type": "stream",
     "name": "stdout",
     "output_type": "stream",
     "text": [
      "Out[9]: 483422"
     ]
    }
   ],
   "source": [
    "from pyspark.sql.types import *\n",
    "\n",
    "header = RDD3.first() #extract header\n",
    "RDD3_NoHead = RDD3.filter(lambda line: line != header)   #filter out header\n",
    "RDD3_NoHead.take(5)\n",
    "\n",
    "# Set Unique ID as Key and Studies as value, in pairs\n",
    "RDD4 = RDD3_NoHead.map(lambda pair: (pair[0], (pair[1])))\n",
    "\n",
    "RDD5 = RDD4.distinct()\n",
    "\n",
    "# Count by Distinct Studies\n",
    "RDD5.count()\n",
    "\n"
   ]
  },
  {
   "cell_type": "markdown",
   "metadata": {
    "application/vnd.databricks.v1+cell": {
     "cellMetadata": {
      "byteLimit": 2048000,
      "rowLimit": 10000
     },
     "inputWidgets": {},
     "nuid": "1acbd2ae-42a2-4c66-9b25-9870454291dc",
     "showTitle": false,
     "title": ""
    }
   },
   "source": [
    "#### Extract [TYPES], [CONDITIONS], [SPONSORS], [COMPLETED-DATES] Data Columns As Separate RDDs  "
   ]
  },
  {
   "cell_type": "code",
   "execution_count": 0,
   "metadata": {
    "application/vnd.databricks.v1+cell": {
     "cellMetadata": {
      "byteLimit": 2048000,
      "rowLimit": 10000
     },
     "inputWidgets": {},
     "nuid": "61037282-fd58-4b70-9017-b978b3cc533a",
     "showTitle": false,
     "title": ""
    }
   },
   "outputs": [],
   "source": [
    "from pyspark.sql.types import *\n",
    "\n",
    "List = RDD3.collect()                     \n",
    "\n",
    "list_Type = []\n",
    "list_Conditions = []\n",
    "list_Sponsors = []\n",
    "list_CompletedDates = []\n",
    "\n",
    "for item in List:\n",
    "    else_list = []\n",
    "    for index, value in enumerate(item): \n",
    "        if index == 10:\n",
    "            list_Type.append(value)\n",
    "        elif index == 4:\n",
    "            list_Conditions.append(value)\n",
    "        elif index == 6:\n",
    "            list_Sponsors.append(value)\n",
    "        elif index == 13:\n",
    "            list_CompletedDates.append(value)\n",
    "        \n",
    "# Convert List to RDD for Types column\n",
    "Type_rdd = sc.parallelize(list_Type)\n",
    "#Type_rdd.collect()\n",
    "\n",
    "# Convert List to RDD for Conditions column\n",
    "Conditions_rdd = sc.parallelize(list_Conditions)\n",
    "#Conditions_rdd.collect()\n",
    "\n",
    "# Convert List to RDD for Sponsors column\n",
    "Sponsors_rdd = sc.parallelize(list_Sponsors)\n",
    "#Sponsors_rdd.collect()\n",
    "\n",
    "# Convert List to RDD for Completed Dates column\n",
    "CompletedDates_rdd = sc.parallelize(list_CompletedDates)\n",
    "#CompletedDates_rdd.collect()\n",
    "\n",
    "\n"
   ]
  },
  {
   "cell_type": "markdown",
   "metadata": {
    "application/vnd.databricks.v1+cell": {
     "cellMetadata": {
      "byteLimit": 2048000,
      "rowLimit": 10000
     },
     "inputWidgets": {},
     "nuid": "29fa8c25-de10-43c9-8f0e-952ed0a079cb",
     "showTitle": false,
     "title": ""
    }
   },
   "source": [
    "#### For Clinical Trials 2023\n",
    "#### List all the types (as contained in the Type column) of studies in the dataset along with the frequencies of each type. In order from most frequent to least frequent. "
   ]
  },
  {
   "cell_type": "code",
   "execution_count": 0,
   "metadata": {
    "application/vnd.databricks.v1+cell": {
     "cellMetadata": {
      "byteLimit": 2048000,
      "rowLimit": 10000
     },
     "inputWidgets": {},
     "nuid": "b755344b-f153-460d-be52-4ccacfc8653a",
     "showTitle": false,
     "title": ""
    }
   },
   "outputs": [
    {
     "output_type": "stream",
     "name": "stdout",
     "output_type": "stream",
     "text": [
      "Out[11]: [('INTERVENTIONAL', 371382),\n ('OBSERVATIONAL', 110221),\n ('EXPANDED_ACCESS', 928),\n ('', 889)]"
     ]
    }
   ],
   "source": [
    "\n",
    "#remove header (first row value)\n",
    "header = Type_rdd.first() \n",
    "RDD13 = Type_rdd.filter(lambda line: line != header)   #filter out header\n",
    "\n",
    "RDD14 = RDD13.map(lambda value: (value, 1))\n",
    "\n",
    "RDD15 = RDD14.reduceByKey(lambda a,b: a + b).sortBy(lambda x: -x[1])\n",
    "RDD15.collect()\n"
   ]
  },
  {
   "cell_type": "markdown",
   "metadata": {
    "application/vnd.databricks.v1+cell": {
     "cellMetadata": {
      "byteLimit": 2048000,
      "rowLimit": 10000
     },
     "inputWidgets": {},
     "nuid": "7af4b2cf-d965-4b27-a24c-f804cfff33cf",
     "showTitle": false,
     "title": ""
    }
   },
   "source": [
    "#### For Clinical Trial 2023\n",
    "#### The top 5 conditions (from Conditions) with their frequencies. "
   ]
  },
  {
   "cell_type": "code",
   "execution_count": 0,
   "metadata": {
    "application/vnd.databricks.v1+cell": {
     "cellMetadata": {
      "byteLimit": 2048000,
      "rowLimit": 10000
     },
     "inputWidgets": {},
     "nuid": "c54dc990-1efc-4c64-933e-e8bc03f81843",
     "showTitle": false,
     "title": ""
    }
   },
   "outputs": [
    {
     "output_type": "stream",
     "name": "stdout",
     "output_type": "stream",
     "text": [
      "Out[12]: [('Healthy', 9731),\n ('Breast Cancer', 7502),\n ('Obesity', 6549),\n ('Stroke', 4072),\n ('Hypertension', 4020)]"
     ]
    }
   ],
   "source": [
    "RDD_Cond = Conditions_rdd.map(lambda line: line.split('|'))\n",
    "\n",
    "RDD_Cond1 = RDD_Cond.flatMap(lambda x: [(w) for w in x])\n",
    "\n",
    "RDD_Cond2 = RDD_Cond1.map(lambda value: (value, 1))\n",
    "\n",
    "# Count frequency of conditions and display top 5 conditions with highest frequency \n",
    "RDD_Cond3 = RDD_Cond2.reduceByKey(lambda a,b: a+b).sortBy(lambda x: -x[1])\n",
    "\n",
    "RDD_Cond3.take(5)\n"
   ]
  },
  {
   "cell_type": "markdown",
   "metadata": {
    "application/vnd.databricks.v1+cell": {
     "cellMetadata": {
      "byteLimit": 2048000,
      "rowLimit": 10000
     },
     "inputWidgets": {},
     "nuid": "c8d62ff6-53e6-42b5-958d-39b2167c8090",
     "showTitle": false,
     "title": ""
    }
   },
   "source": [
    "#### For Clinical Trial 2023\n",
    "#### Find the 10 most common sponsors that are not pharmaceutical companies, along with the number of clinical trials they have sponsored"
   ]
  },
  {
   "cell_type": "code",
   "execution_count": 0,
   "metadata": {
    "application/vnd.databricks.v1+cell": {
     "cellMetadata": {
      "byteLimit": 2048000,
      "rowLimit": 10000
     },
     "inputWidgets": {},
     "nuid": "04f8ae3d-f329-4e07-945a-e1bd0645fd34",
     "showTitle": false,
     "title": ""
    }
   },
   "outputs": [],
   "source": [
    "# Get Parent Company Column from Pharma.csv Dataset\n",
    "RDD_Pharma  = sc.textFile(\"/FileStore/tables/pharma.csv\")\n",
    "\n",
    "#Clean Data from unwanted characters\n",
    "RDD_Pharma1 = RDD_Pharma.map(lambda line: line.replace('\",\"','\"\\t\"'))\n",
    "RDD_Pharma2 = RDD_Pharma1.map(lambda line: line.replace('\"', \"\"))\n",
    "RDD_Pharma3 = RDD_Pharma2.map(lambda line: line.split('\\t'))\n",
    "#RDD103.take(2)\n",
    "RDD_Pharma4 = RDD_Pharma3.map(lambda values: (values[1]))\n",
    "\n",
    "#LIST of Pharma Names from Pharma Dataset\n",
    "Result2023= RDD_Pharma4.distinct().collect()\n"
   ]
  },
  {
   "cell_type": "code",
   "execution_count": 0,
   "metadata": {
    "application/vnd.databricks.v1+cell": {
     "cellMetadata": {
      "byteLimit": 2048000,
      "rowLimit": 10000
     },
     "inputWidgets": {},
     "nuid": "337b27d4-de33-4fb5-bd7a-3be16f72fbb3",
     "showTitle": false,
     "title": ""
    }
   },
   "outputs": [
    {
     "output_type": "stream",
     "name": "stdout",
     "output_type": "stream",
     "text": [
      "Out[14]: [('National Cancer Institute (NCI)', 3410),\n ('Assiut University', 3335),\n ('Cairo University', 3023),\n ('Assistance Publique - Hôpitaux de Paris', 2951),\n ('Mayo Clinic', 2766),\n ('M.D. Anderson Cancer Center', 2702),\n ('Novartis Pharmaceuticals', 2393),\n ('National Institute of Allergy and Infectious Diseases (NIAID)', 2340),\n ('Massachusetts General Hospital', 2263),\n ('National Taiwan University Hospital', 2181)]"
     ]
    }
   ],
   "source": [
    "########################################################\n",
    "# Get sponsor column from ClinicalTrial Dataset\n",
    "RDD_Sponsr = Sponsors_rdd.map(lambda value: (value, 1))\n",
    "#RDD10.take(100)\n",
    "\n",
    "RDD_Sponsr1 = RDD_Sponsr.reduceByKey(lambda a,b: a+b).sortBy(lambda x: -x[1])\n",
    "\n",
    "#Sponsor Names (to be compared with pharma names) with counts from Clinical Dataset\n",
    "RDD_Sponsr1.collect()\n",
    "\n",
    "# Filter sponsor names that are not in Pharma list (i.e. Result2023) \n",
    "RDD_Sponsr2 = RDD_Sponsr1.filter(lambda x: all(val not in x for val in Result2023))\n",
    "\n",
    "RDD_Sponsr2.take(10)\n",
    "\n"
   ]
  },
  {
   "cell_type": "markdown",
   "metadata": {
    "application/vnd.databricks.v1+cell": {
     "cellMetadata": {
      "byteLimit": 2048000,
      "rowLimit": 10000
     },
     "inputWidgets": {},
     "nuid": "a816b268-726d-4856-9c22-ef1949af0a38",
     "showTitle": false,
     "title": ""
    }
   },
   "source": [
    "#### For Clinical Trial 2023\n",
    "#### Plot number of completed studies for each month in 2023."
   ]
  },
  {
   "cell_type": "code",
   "execution_count": 0,
   "metadata": {
    "application/vnd.databricks.v1+cell": {
     "cellMetadata": {
      "byteLimit": 2048000,
      "rowLimit": 10000
     },
     "inputWidgets": {},
     "nuid": "245b8443-ea81-4731-b1a0-0067e26f31c9",
     "showTitle": false,
     "title": ""
    }
   },
   "outputs": [
    {
     "output_type": "stream",
     "name": "stdout",
     "output_type": "stream",
     "text": [
      "Out[15]: [('2023-12', 9283),\n ('2023-06', 3634),\n ('2023-03', 2947),\n ('2023-09', 2878),\n ('2023-07', 2752),\n ('2023-08', 2696),\n ('2023-05', 2627),\n ('2023-10', 2616),\n ('2023-01', 2567),\n ('2023-04', 2402),\n ('2023-11', 2313),\n ('2023-02', 2112)]"
     ]
    }
   ],
   "source": [
    "RDD_Dates = CompletedDates_rdd.map(lambda value: (value, 1))\n",
    "RDD_Dates.take(5)\n",
    "header = RDD_Dates.first() #extract header\n",
    "RDD_Dates1 = RDD_Dates.filter(lambda line: line != header)   #filter out header\n",
    "\n",
    "RDD_Dates2 = RDD_Dates1.map(lambda value: (value[0]))\n",
    "RDD_Dates3 = RDD_Dates2.filter(lambda value: (value[0:4] == \"2023\"))\n",
    "\n",
    "RDD_Dates4 = RDD_Dates3.map(lambda value: (value[0:7]))\n",
    "\n",
    "RDD_Dates5 =RDD_Dates4.map(lambda x: (x, 1))\n",
    "\n",
    "RDD_Dates6 = RDD_Dates5.reduceByKey(lambda a,b: a+b).sortBy(lambda x: x[1], False)\n",
    "RDD_Dates6.collect()\n"
   ]
  },
  {
   "cell_type": "markdown",
   "metadata": {
    "application/vnd.databricks.v1+cell": {
     "cellMetadata": {
      "byteLimit": 2048000,
      "rowLimit": 10000
     },
     "inputWidgets": {},
     "nuid": "07941e5e-32ad-471a-a800-3266bdc96aa3",
     "showTitle": false,
     "title": ""
    }
   },
   "source": [
    "#### For Clinical Trials 2020 and 2021:\n",
    "#### list all the types (as contained in the Type column) of studies in the dataset along with the frequencies of each type "
   ]
  },
  {
   "cell_type": "code",
   "execution_count": 0,
   "metadata": {
    "application/vnd.databricks.v1+cell": {
     "cellMetadata": {
      "byteLimit": 2048000,
      "rowLimit": 10000
     },
     "inputWidgets": {},
     "nuid": "8591836c-3d33-43ff-b0b6-987ec52c1b0a",
     "showTitle": false,
     "title": ""
    }
   },
   "outputs": [
    {
     "output_type": "stream",
     "name": "stdout",
     "output_type": "stream",
     "text": [
      "Out[16]: [('Interventional', 277631),\n ('Observational', 71434),\n ('Observational [Patient Registry]', 7332),\n ('Expanded Access', 69)]"
     ]
    }
   ],
   "source": [
    "from pyspark.sql.types import *\n",
    "from pyspark.sql import SparkSession\n",
    "\n",
    "# Create RDD with Type Column\n",
    "RDD20 = sc.textFile(\"/FileStore/tables/clinicaltrial_2020.csv\")\n",
    "\n",
    "RDD20_1 = RDD20.map(lambda line: line.replace('|','\\t'))\n",
    "\n",
    "## USED IN NEXT CELLS\n",
    "RDD20_2 = RDD20_1.map(lambda line: line.split('\\t')) \n",
    "## USED IN NEXT CELLS\n",
    "\n",
    "RDD20_3 = RDD20_2.map(lambda value: ((value[5], 1)))\n",
    "\n",
    "RDD20_4 = RDD20_3.reduceByKey(lambda a,b: a+b).sortBy(lambda x: -x[1])\n",
    "\n",
    "RDD20_4.take(4)\n"
   ]
  },
  {
   "cell_type": "markdown",
   "metadata": {
    "application/vnd.databricks.v1+cell": {
     "cellMetadata": {
      "byteLimit": 2048000,
      "rowLimit": 10000
     },
     "inputWidgets": {},
     "nuid": "dc48c8f6-64d6-44d6-9cc7-edc971443253",
     "showTitle": false,
     "title": ""
    }
   },
   "source": [
    "#### For Clinical Trials 2020 and 2021:\n",
    "#### The top 5 conditions (from Conditions) with their frequencies"
   ]
  },
  {
   "cell_type": "code",
   "execution_count": 0,
   "metadata": {
    "application/vnd.databricks.v1+cell": {
     "cellMetadata": {
      "byteLimit": 2048000,
      "rowLimit": 10000
     },
     "inputWidgets": {},
     "nuid": "2c2d2609-3b39-470c-a638-585fea19d2fe",
     "showTitle": false,
     "title": ""
    }
   },
   "outputs": [
    {
     "output_type": "stream",
     "name": "stdout",
     "output_type": "stream",
     "text": [
      "Out[17]: [('', 60030),\n ('Diabetes Mellitus', 7096),\n ('Breast Neoplasms', 5664),\n ('Prostatic Neoplasms', 3484),\n ('Carcinoma', 3435),\n ('Osteoarthritis', 2857)]"
     ]
    }
   ],
   "source": [
    "RDD33 = RDD20_2.map(lambda value: ((value[7], 1)))\n",
    "\n",
    "RDD33.reduceByKey(lambda a,b: a+b).sortBy(lambda x: -x[1]).take(6)\n"
   ]
  },
  {
   "cell_type": "markdown",
   "metadata": {
    "application/vnd.databricks.v1+cell": {
     "cellMetadata": {
      "byteLimit": 2048000,
      "rowLimit": 10000
     },
     "inputWidgets": {},
     "nuid": "5c1884a7-5c52-4142-a371-03e86f84f323",
     "showTitle": false,
     "title": ""
    }
   },
   "source": [
    "#### For Clinical Trials 2020 and 2021:\n",
    "#### Find the 10 most common sponsors that are not pharmaceutical companies, along with the number of clinical trials they have sponsored"
   ]
  },
  {
   "cell_type": "code",
   "execution_count": 0,
   "metadata": {
    "application/vnd.databricks.v1+cell": {
     "cellMetadata": {
      "byteLimit": 2048000,
      "rowLimit": 10000
     },
     "inputWidgets": {},
     "nuid": "60ae6785-6ef2-4a9f-9d8a-dbb1cd2377c7",
     "showTitle": false,
     "title": ""
    }
   },
   "outputs": [
    {
     "output_type": "stream",
     "name": "stdout",
     "output_type": "stream",
     "text": [
      "Out[18]: [('National Cancer Institute (NCI)', 3100),\n ('M.D. Anderson Cancer Center', 2238),\n ('Merck Sharp & Dohme Corp.', 2184),\n ('Mayo Clinic', 2097),\n ('Assistance Publique - Hôpitaux de Paris', 2043),\n ('Massachusetts General Hospital', 1823),\n ('Assiut University', 1806),\n ('Hoffmann-La Roche', 1761),\n ('National Taiwan University Hospital', 1720),\n ('Cairo University', 1676)]"
     ]
    }
   ],
   "source": [
    "# Get Parent Company Column from Pharma.csv Dataset\n",
    "RDD100  = sc.textFile(\"/FileStore/tables/pharma.csv\")\n",
    "\n",
    "RDD101 = RDD100.map(lambda line: line.replace('\",\"','\"\\t\"'))\n",
    "RDD102 = RDD101.map(lambda line: line.replace('\"', \"\"))\n",
    "RDD103 = RDD102.map(lambda line: line.split('\\t'))\n",
    "#RDD103.take(2)\n",
    "RDD104 = RDD103.map(lambda values: (values[1]))\n",
    "\n",
    "#LIST of Pharma Names from Pharma Dataset\n",
    "Result= RDD104.distinct().collect()\n",
    "\n",
    "########################################################\n",
    "# Get sponsor column from ClinicalTrial Dataset\n",
    "RDD43 = RDD20_2.map(lambda value: (value[1], 1))\n",
    "\n",
    "# Find frequency of sponsors and arrange in descending order of counts\n",
    "RDD44 = RDD43.reduceByKey(lambda a,b: a+b).sortBy(lambda x: -x[1])\n",
    "\n",
    "#Sponsor Names (to be compared with pharma names) with counts from Clinical Dataset\n",
    "RDD44.collect()\n",
    "\n",
    "# Filter Sponsor names that are not Pharma names list\n",
    "RDD45 = RDD44.filter(lambda x: all(val not in x for val in Result))\n",
    "\n",
    "# This pharma exists in Pharma Names with half name \"Novartis\" Only.\n",
    "RDD45 = RDD45.filter(lambda x: \"Novartis Pharmaceuticals\" not in x[0]) \n",
    "\n",
    "RDD45.take(10)\n"
   ]
  },
  {
   "cell_type": "markdown",
   "metadata": {
    "application/vnd.databricks.v1+cell": {
     "cellMetadata": {
      "byteLimit": 2048000,
      "rowLimit": 10000
     },
     "inputWidgets": {},
     "nuid": "fe7a44b4-2114-4a28-92f1-e49069eb585c",
     "showTitle": false,
     "title": ""
    }
   },
   "source": [
    "#### For Clinical Trials 2020 and 2021:\n",
    "#### Plot number of completed studies for each month in 2023."
   ]
  },
  {
   "cell_type": "code",
   "execution_count": 0,
   "metadata": {
    "application/vnd.databricks.v1+cell": {
     "cellMetadata": {
      "byteLimit": 2048000,
      "rowLimit": 10000
     },
     "inputWidgets": {},
     "nuid": "6a9a25bc-c70f-4e57-8c4e-ca4e4677dc6c",
     "showTitle": false,
     "title": ""
    }
   },
   "outputs": [
    {
     "output_type": "stream",
     "name": "stdout",
     "output_type": "stream",
     "text": [
      "Out[19]: [('Dec 2023', 2288),\n ('Jun 2023', 1201),\n ('Jan 2023', 932),\n ('Mar 2023', 923),\n ('Jul 2023', 792),\n ('Sep 2023', 754),\n ('Apr 2023', 673),\n ('May 2023', 670),\n ('Aug 2023', 658),\n ('Feb 2023', 602),\n ('Oct 2023', 567),\n ('Nov 2023', 490)]"
     ]
    }
   ],
   "source": [
    "RDD53 = RDD20_2.map(lambda value: (value[4], 1))\n",
    "#RDD10.take(5)\n",
    "\n",
    "header = RDD53.first() #extract header\n",
    "RDD54 = RDD53.filter(lambda line: line != header)   #filter out header\n",
    "\n",
    "\n",
    "RDD55 = RDD54.map(lambda value: (value[0]))\n",
    "RDD56 = RDD55.filter(lambda value: (value[4:8] == \"2023\")) # Filter rows with year = 2023\n",
    "\n",
    "RDD57 =RDD56.map(lambda x: (x, 1))\n",
    "\n",
    "RDD58 = RDD57.reduceByKey(lambda a,b: a+b).sortBy(lambda x: -x[1])\n",
    "RDD58.collect()\n"
   ]
  }
 ],
 "metadata": {
  "application/vnd.databricks.v1+notebook": {
   "dashboards": [],
   "environmentMetadata": null,
   "language": "python",
   "notebookMetadata": {
    "mostRecentlyExecutedCommandWithImplicitDF": {
     "commandId": 1915204707793945,
     "dataframes": [
      "_sqldf"
     ]
    },
    "pythonIndentUnit": 4
   },
   "notebookName": "Salman_Taj_rdd",
   "widgets": {}
  }
 },
 "nbformat": 4,
 "nbformat_minor": 0
}
