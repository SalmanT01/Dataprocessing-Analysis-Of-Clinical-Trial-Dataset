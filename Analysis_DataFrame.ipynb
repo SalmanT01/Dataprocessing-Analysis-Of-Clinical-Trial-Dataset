{
 "cells": [
  {
   "cell_type": "code",
   "execution_count": 0,
   "metadata": {
    "application/vnd.databricks.v1+cell": {
     "cellMetadata": {
      "byteLimit": 2048000,
      "rowLimit": 10000
     },
     "inputWidgets": {},
     "nuid": "6669b30c-57dd-4a98-b1b0-aebe3db4c296",
     "showTitle": false,
     "title": ""
    }
   },
   "outputs": [],
   "source": [
    "from pyspark.sql.types import *\n",
    "from pyspark.sql.functions import to_timestamp \n",
    "\n",
    "# Create RDD with Columns required for Solving Queries\n",
    "RDD7 = sc.textFile(\"/FileStore/tables/clinicaltrial_2023.csv\")\n",
    "\n",
    "RDD8 = RDD7.map(lambda line: line.replace('\"', \"\").strip(\",\"))\n",
    "RDD10 = RDD8.map(lambda line: line.split('\\t'))\n",
    "\n",
    "List = RDD10.collect()                     \n",
    "\n",
    "list_Id = []\n",
    "list_Type = []\n",
    "list_Conditions = []\n",
    "list_Sponsors = []\n",
    "list_CompletedDates = []\n",
    "\n",
    "for item in List:\n",
    "    for index, value in enumerate(item): \n",
    "        if index == 0:\n",
    "            list_Id.append(value)\n",
    "        elif index == 10:\n",
    "            list_Type.append(value)\n",
    "        elif index == 4:\n",
    "            list_Conditions.append(value)\n",
    "        elif index == 6:\n",
    "            list_Sponsors.append(value)\n",
    "        elif index == 13:\n",
    "            list_CompletedDates.append(value)\n",
    "        \n"
   ]
  },
  {
   "cell_type": "markdown",
   "metadata": {
    "application/vnd.databricks.v1+cell": {
     "cellMetadata": {
      "byteLimit": 2048000,
      "rowLimit": 10000
     },
     "inputWidgets": {},
     "nuid": "dd046698-5f0f-419c-a92d-5a23dc10cd4b",
     "showTitle": false,
     "title": ""
    }
   },
   "source": [
    "#### Create DF for ID column"
   ]
  },
  {
   "cell_type": "code",
   "execution_count": 0,
   "metadata": {
    "application/vnd.databricks.v1+cell": {
     "cellMetadata": {
      "byteLimit": 2048000,
      "rowLimit": 10000
     },
     "inputWidgets": {},
     "nuid": "02b34ce3-f6b8-4cb8-a711-a82008693448",
     "showTitle": false,
     "title": ""
    }
   },
   "outputs": [],
   "source": [
    "################################################################\n",
    "#### Id\n",
    "Id_Schema = StructType([\n",
    "    StructField(\"Index\", IntegerType()),\n",
    "    StructField(\"Id\", StringType())\n",
    "])\n",
    "\n",
    "Id_rdd = sc.parallelize(list_Id)\n",
    "Id_rdd1 = Id_rdd.zipWithIndex()\n",
    "Id_rdd2 = Id_rdd1.map(lambda values:[values[1], values[0]])\n",
    "\n",
    "# Data Frame with Id values\n",
    "Id_DF = spark.createDataFrame(Id_rdd2, Id_Schema)\n"
   ]
  },
  {
   "cell_type": "markdown",
   "metadata": {
    "application/vnd.databricks.v1+cell": {
     "cellMetadata": {
      "byteLimit": 2048000,
      "rowLimit": 10000
     },
     "inputWidgets": {},
     "nuid": "1dd87a73-d83a-46ee-a3db-230783527d1f",
     "showTitle": false,
     "title": ""
    }
   },
   "source": [
    "#### Create DF for Type column "
   ]
  },
  {
   "cell_type": "code",
   "execution_count": 0,
   "metadata": {
    "application/vnd.databricks.v1+cell": {
     "cellMetadata": {
      "byteLimit": 2048000,
      "rowLimit": 10000
     },
     "inputWidgets": {},
     "nuid": "16e8054b-be38-4b32-a0e2-ed89c3a4786e",
     "showTitle": false,
     "title": ""
    }
   },
   "outputs": [],
   "source": [
    "################################################################\n",
    "#### Types\n",
    "Type_Schema = StructType([\n",
    "    StructField(\"Index\", IntegerType()),\n",
    "    StructField(\"Type\", StringType())\n",
    "])\n",
    "\n",
    "Type_rdd = sc.parallelize(list_Type)\n",
    "Type_rdd1 = Type_rdd.zipWithIndex()\n",
    "Type_rdd2 = Type_rdd1.map(lambda values:[values[1], values[0]])\n",
    "\n",
    "Type_DF = spark.createDataFrame(Type_rdd2, Type_Schema)\n"
   ]
  },
  {
   "cell_type": "markdown",
   "metadata": {
    "application/vnd.databricks.v1+cell": {
     "cellMetadata": {
      "byteLimit": 2048000,
      "rowLimit": 10000
     },
     "inputWidgets": {},
     "nuid": "16bdee3b-f082-4498-af4d-9a6a0343539e",
     "showTitle": false,
     "title": ""
    }
   },
   "source": [
    "#### Create DF for Conditions column "
   ]
  },
  {
   "cell_type": "code",
   "execution_count": 0,
   "metadata": {
    "application/vnd.databricks.v1+cell": {
     "cellMetadata": {
      "byteLimit": 2048000,
      "rowLimit": 10000
     },
     "inputWidgets": {},
     "nuid": "bedb8211-e513-4f36-91bd-d5430c8400d9",
     "showTitle": false,
     "title": ""
    }
   },
   "outputs": [],
   "source": [
    "\n",
    "################################################################\n",
    "#### Conditions\n",
    "Conditions_Schema = StructType([\n",
    "    StructField(\"Index\", IntegerType()),\n",
    "    StructField(\"Conditions\", StringType())\n",
    "])\n",
    "\n",
    "Conditions_rdd = sc.parallelize(list_Conditions)\n",
    "Conditions_rdd1 = Conditions_rdd.zipWithIndex()\n",
    "Conditions_rdd2 = Conditions_rdd1.map(lambda values:[values[1], values[0]])\n",
    "\n",
    "Conditions_DF = spark.createDataFrame(Conditions_rdd2, Conditions_Schema)\n"
   ]
  },
  {
   "cell_type": "markdown",
   "metadata": {
    "application/vnd.databricks.v1+cell": {
     "cellMetadata": {
      "byteLimit": 2048000,
      "rowLimit": 10000
     },
     "inputWidgets": {},
     "nuid": "0e588c55-cef6-40f4-8d29-8f0f7d9627b8",
     "showTitle": false,
     "title": ""
    }
   },
   "source": [
    "#### Create DF for Sponsors column "
   ]
  },
  {
   "cell_type": "code",
   "execution_count": 0,
   "metadata": {
    "application/vnd.databricks.v1+cell": {
     "cellMetadata": {
      "byteLimit": 2048000,
      "rowLimit": 10000
     },
     "inputWidgets": {},
     "nuid": "8adc937e-57c1-4cbd-8f45-967c7a4fa273",
     "showTitle": false,
     "title": ""
    }
   },
   "outputs": [],
   "source": [
    "################################################################\n",
    "#### Sponsors\n",
    "Sponsors_Schema = StructType([\n",
    "    StructField(\"Index\", IntegerType()),\n",
    "    StructField(\"Sponsors\", StringType())\n",
    "])\n",
    "\n",
    "Sponsors_rdd = sc.parallelize(list_Sponsors)\n",
    "Sponsors_rdd1 = Sponsors_rdd.zipWithIndex()\n",
    "Sponsors_rdd2 = Sponsors_rdd1.map(lambda values:[values[1], values[0]])\n",
    "\n",
    "Sponsors_DF = spark.createDataFrame(Sponsors_rdd2, Sponsors_Schema)\n"
   ]
  },
  {
   "cell_type": "markdown",
   "metadata": {
    "application/vnd.databricks.v1+cell": {
     "cellMetadata": {
      "byteLimit": 2048000,
      "rowLimit": 10000
     },
     "inputWidgets": {},
     "nuid": "121771f0-64e0-474a-92e5-fd418481d8f4",
     "showTitle": false,
     "title": ""
    }
   },
   "source": [
    "#### Create DF for Completed Dates column "
   ]
  },
  {
   "cell_type": "code",
   "execution_count": 0,
   "metadata": {
    "application/vnd.databricks.v1+cell": {
     "cellMetadata": {
      "byteLimit": 2048000,
      "rowLimit": 10000
     },
     "inputWidgets": {},
     "nuid": "ef175e58-d0de-4246-8050-2f9deda7deac",
     "showTitle": false,
     "title": ""
    }
   },
   "outputs": [],
   "source": [
    "################################################################\n",
    "# Completed Dates\n",
    "CompletedDates_Schema = StructType([\n",
    "    StructField(\"Index\", IntegerType()),\n",
    "    StructField(\"CompletedDates\", StringType())\n",
    "])\n",
    "\n",
    "CompletedDates_rdd = sc.parallelize(list_CompletedDates)\n",
    "CompletedDates_rdd.zipWithIndex()\n",
    "CompletedDates_rdd1 = CompletedDates_rdd.zipWithIndex()\n",
    "CompletedDates_rdd2 = CompletedDates_rdd1.map(lambda values:[values[1], values[0]])\n",
    "\n",
    "CompletedDates_DF = spark.createDataFrame(CompletedDates_rdd2,CompletedDates_Schema)\n"
   ]
  },
  {
   "cell_type": "markdown",
   "metadata": {
    "application/vnd.databricks.v1+cell": {
     "cellMetadata": {
      "byteLimit": 2048000,
      "rowLimit": 10000
     },
     "inputWidgets": {},
     "nuid": "d016f409-3fef-4491-8370-028196162cf3",
     "showTitle": false,
     "title": ""
    }
   },
   "source": [
    "#### Create a combined Dataframe of all extracted columns"
   ]
  },
  {
   "cell_type": "code",
   "execution_count": 0,
   "metadata": {
    "application/vnd.databricks.v1+cell": {
     "cellMetadata": {
      "byteLimit": 2048000,
      "rowLimit": 10000
     },
     "inputWidgets": {},
     "nuid": "32865170-13fa-4eab-9364-b6e566c7d412",
     "showTitle": false,
     "title": ""
    }
   },
   "outputs": [
    {
     "output_type": "stream",
     "name": "stdout",
     "output_type": "stream",
     "text": [
      "+-----+-----------+--------------+--------------------+--------------------+--------------+\n|Index|         Id|          Type|          Conditions|            Sponsors|CompletedDates|\n+-----+-----------+--------------+--------------------+--------------------+--------------+\n|    1|NCT03630471|INTERVENTIONAL|Mental Health Iss...|             Sangath|    2019-02-28|\n|    2|NCT05992571|INTERVENTIONAL|Cerebrovascular F...| McMaster University|       2024-08|\n|    3|NCT00237471|INTERVENTIONAL|Myocardial Infarc...|    Melbourne Health|       2006-05|\n|    4|NCT03820271|INTERVENTIONAL|Decompensated Cir...|Assistance Publiq...|    2023-10-01|\n|    5|NCT06229171|INTERVENTIONAL|Hypertension|Trea...|Istituto Auxologi...|    2026-04-01|\n+-----+-----------+--------------+--------------------+--------------------+--------------+\nonly showing top 5 rows\n\n"
     ]
    }
   ],
   "source": [
    "################################################################\n",
    "# Join All Above created DFs\n",
    "myRDD_DF = Id_DF.join(Type_DF, on='Index', how='inner').join(Conditions_DF, on='Index', how='inner').join(Sponsors_DF, on='Index', how='inner').join(CompletedDates_DF, on='Index', how='inner')\n",
    "\n",
    "# Ascending Order of Index\n",
    "myRDD_DF1 = myRDD_DF.orderBy(\"Index\") \n",
    "\n",
    "# Remove 1st Row\n",
    "myRDD_DF2 = myRDD_DF1.filter(myRDD_DF1[0]!=\"0\") \n",
    "\n",
    "myRDD_DF2.show(5, truncate=True)"
   ]
  },
  {
   "cell_type": "markdown",
   "metadata": {
    "application/vnd.databricks.v1+cell": {
     "cellMetadata": {
      "byteLimit": 2048000,
      "rowLimit": 10000
     },
     "inputWidgets": {},
     "nuid": "2652b11b-a8a7-4c0b-aede-3f58958f3085",
     "showTitle": false,
     "title": ""
    }
   },
   "source": [
    "#### For Clinical Trials 2023\n",
    "#### Find Number of Distinct Studies in Dataset"
   ]
  },
  {
   "cell_type": "code",
   "execution_count": 0,
   "metadata": {
    "application/vnd.databricks.v1+cell": {
     "cellMetadata": {
      "byteLimit": 2048000,
      "rowLimit": 10000
     },
     "inputWidgets": {},
     "nuid": "5cc743c3-33bd-4e14-a2d5-f73a57c0fe3b",
     "showTitle": false,
     "title": ""
    }
   },
   "outputs": [
    {
     "output_type": "stream",
     "name": "stdout",
     "output_type": "stream",
     "text": [
      "Out[8]: 483421"
     ]
    }
   ],
   "source": [
    "DF_ID_Column = myRDD_DF1.select(myRDD_DF1.Id)\n",
    "#myRDD_DF3.show(5 , truncate = False) # show DataFrame\n",
    "\n",
    "DF_ID_Column.count()"
   ]
  },
  {
   "cell_type": "markdown",
   "metadata": {
    "application/vnd.databricks.v1+cell": {
     "cellMetadata": {
      "byteLimit": 2048000,
      "rowLimit": 10000
     },
     "inputWidgets": {},
     "nuid": "f736af27-690e-4a3e-a720-98bbff4d00c2",
     "showTitle": false,
     "title": ""
    }
   },
   "source": [
    "#### For Clinical Trials 2023\n",
    "#### List all the types (as contained in the Type column) of studies in the dataset along with the frequencies of each type. In order from most frequent to least frequent. "
   ]
  },
  {
   "cell_type": "code",
   "execution_count": 0,
   "metadata": {
    "application/vnd.databricks.v1+cell": {
     "cellMetadata": {
      "byteLimit": 2048000,
      "rowLimit": 10000
     },
     "inputWidgets": {},
     "nuid": "72284a36-2107-4181-972b-40ec2f7058d3",
     "showTitle": false,
     "title": ""
    }
   },
   "outputs": [
    {
     "output_type": "stream",
     "name": "stdout",
     "output_type": "stream",
     "text": [
      "+---------------+------+\n|           Type| count|\n+---------------+------+\n| INTERVENTIONAL|371382|\n|  OBSERVATIONAL|110221|\n|EXPANDED_ACCESS|   928|\n|               |   889|\n+---------------+------+\n\n"
     ]
    }
   ],
   "source": [
    "from pyspark.sql.functions import col\n",
    "\n",
    "DF_Types_Column = myRDD_DF2.select(myRDD_DF2.Type)\n",
    "\n",
    "DF_Types_Column1 = DF_Types_Column.groupBy(\"Type\").count().orderBy(col('count').desc())\n",
    "\n",
    "DF_Types_Column1.show()"
   ]
  },
  {
   "cell_type": "markdown",
   "metadata": {
    "application/vnd.databricks.v1+cell": {
     "cellMetadata": {
      "byteLimit": 2048000,
      "rowLimit": 10000
     },
     "inputWidgets": {},
     "nuid": "7430b5eb-09de-4504-8b32-c4a52d5340a1",
     "showTitle": false,
     "title": ""
    }
   },
   "source": [
    "#### For Clinical Trial 2023\n",
    "#### The top 5 conditions (from Conditions) with their frequencies. "
   ]
  },
  {
   "cell_type": "code",
   "execution_count": 0,
   "metadata": {
    "application/vnd.databricks.v1+cell": {
     "cellMetadata": {
      "byteLimit": 2048000,
      "rowLimit": 10000
     },
     "inputWidgets": {},
     "nuid": "bd524708-07f9-451f-96f8-a63ed15ee11f",
     "showTitle": false,
     "title": ""
    }
   },
   "outputs": [
    {
     "output_type": "stream",
     "name": "stdout",
     "output_type": "stream",
     "text": [
      "+-------------+-----+\n|Conditions   |count|\n+-------------+-----+\n|Healthy      |9731 |\n|Breast Cancer|7502 |\n|Obesity      |6549 |\n|Stroke       |4072 |\n|Hypertension |4020 |\n+-------------+-----+\nonly showing top 5 rows\n\n"
     ]
    }
   ],
   "source": [
    "from pyspark.sql.functions import *\n",
    "\n",
    "DF_Conditions_Column = myRDD_DF2.select(myRDD_DF2.Conditions) # Conditions_DF1\n",
    "\n",
    "DF_Conditions_Column1 = DF_Conditions_Column.withColumn(\"Conditions\", explode(split(col(\"Conditions\"), '\\|')))\n",
    "DF_Conditions_Column2 = DF_Conditions_Column1.groupBy(\"Conditions\").count().orderBy(col('count').desc())\n",
    "DF_Conditions_Column2.show(5, truncate = False)"
   ]
  },
  {
   "cell_type": "markdown",
   "metadata": {
    "application/vnd.databricks.v1+cell": {
     "cellMetadata": {
      "byteLimit": 2048000,
      "rowLimit": 10000
     },
     "inputWidgets": {},
     "nuid": "1ddaee68-3f65-4393-9bd8-7e2671d0d3ba",
     "showTitle": false,
     "title": ""
    }
   },
   "source": [
    "#### For Clinical Trial 2023\n",
    "#### Find the 10 most common sponsors that are not pharmaceutical companies, along with the number of clinical trials they have sponsored"
   ]
  },
  {
   "cell_type": "code",
   "execution_count": 0,
   "metadata": {
    "application/vnd.databricks.v1+cell": {
     "cellMetadata": {
      "byteLimit": 2048000,
      "rowLimit": 10000
     },
     "inputWidgets": {},
     "nuid": "c274bbff-e8f7-4e1d-856e-21487ed69556",
     "showTitle": false,
     "title": ""
    }
   },
   "outputs": [],
   "source": [
    "from pyspark.sql.functions import *\n",
    "\n",
    "Pharma_DF = spark.read.csv(\"/FileStore/tables/pharma.csv\", header=True)\n",
    "#Pharma_DF.show(1, truncate = True)\n",
    "\n",
    "Pharma_DF1 = Pharma_DF.select(\"Parent_Company\") #.rdd.flatMap(lambda x: x.replace('\",\"','\"\\t\"')).toDF()\n",
    "\n",
    "Pharma_Names_List = Pharma_DF1.distinct().select(\"Parent_Company\").rdd.flatMap(lambda x: x).collect()\n"
   ]
  },
  {
   "cell_type": "code",
   "execution_count": 0,
   "metadata": {
    "application/vnd.databricks.v1+cell": {
     "cellMetadata": {
      "byteLimit": 2048000,
      "rowLimit": 10000
     },
     "inputWidgets": {},
     "nuid": "f68320d4-d7c8-4050-bcc9-14689cb2e0ed",
     "showTitle": false,
     "title": ""
    }
   },
   "outputs": [
    {
     "output_type": "stream",
     "name": "stdout",
     "output_type": "stream",
     "text": [
      "+-------------------------------------------------------------+-----+\n|Sponsors                                                     |count|\n+-------------------------------------------------------------+-----+\n|National Cancer Institute (NCI)                              |3410 |\n|Assiut University                                            |3335 |\n|Cairo University                                             |3023 |\n|Assistance Publique - Hôpitaux de Paris                      |2951 |\n|Mayo Clinic                                                  |2766 |\n|M.D. Anderson Cancer Center                                  |2702 |\n|Novartis Pharmaceuticals                                     |2393 |\n|National Institute of Allergy and Infectious Diseases (NIAID)|2340 |\n|Massachusetts General Hospital                               |2263 |\n|National Taiwan University Hospital                          |2181 |\n+-------------------------------------------------------------+-----+\nonly showing top 10 rows\n\n"
     ]
    }
   ],
   "source": [
    "# Get sponsor column from ClinicalTrial Dataset\n",
    "\n",
    "DF_Sponsors_Column = myRDD_DF2.select(myRDD_DF2.Sponsors)\n",
    "DF_Sponsors_Column1 = DF_Sponsors_Column.groupBy(\"Sponsors\").count().orderBy(col('count').desc())\n",
    "\n",
    "# (~) is used to perform filter to check IS NOT IN, opposite of IS IN. \n",
    "DF_Sponsors_Column1 = DF_Sponsors_Column1.filter(~col(\"Sponsors\").isin(Pharma_Names_List))\n",
    "\n",
    "DF_Sponsors_Column1.show(10, truncate = False)\n"
   ]
  },
  {
   "cell_type": "markdown",
   "metadata": {
    "application/vnd.databricks.v1+cell": {
     "cellMetadata": {
      "byteLimit": 2048000,
      "rowLimit": 10000
     },
     "inputWidgets": {},
     "nuid": "3baa60ab-2229-48df-b4b6-581baeaa71ee",
     "showTitle": false,
     "title": ""
    }
   },
   "source": [
    "#### For Clinical Trial 2023\n",
    "#### Plot number of completed studies for each month in 2023."
   ]
  },
  {
   "cell_type": "code",
   "execution_count": 0,
   "metadata": {
    "application/vnd.databricks.v1+cell": {
     "cellMetadata": {
      "byteLimit": 2048000,
      "rowLimit": 10000
     },
     "inputWidgets": {},
     "nuid": "5e0f24f1-d4ed-4c20-86c0-363d53389750",
     "showTitle": false,
     "title": ""
    }
   },
   "outputs": [
    {
     "output_type": "stream",
     "name": "stdout",
     "output_type": "stream",
     "text": [
      "+-----+----------+\n|Month|sum(count)|\n+-----+----------+\n|    1|      2567|\n|    2|      2112|\n|    3|      2947|\n|    4|      2402|\n|    5|      2627|\n|    6|      3634|\n|    7|      2752|\n|    8|      2696|\n|    9|      2878|\n|   10|      2616|\n|   11|      2313|\n|   12|      9283|\n+-----+----------+\n\n"
     ]
    }
   ],
   "source": [
    "from pyspark.sql.functions import *\n",
    "\n",
    "DF_CompletedDates = myRDD_DF2.select(myRDD_DF2.CompletedDates)\n",
    "\n",
    "DF_CompletedDates1 = DF_CompletedDates.groupBy(\"CompletedDates\").count().orderBy(col('count').desc())\n",
    "DF_CompletedDates2 = DF_CompletedDates1.filter(DF_CompletedDates1[0].like(\"2023%\"))\n",
    "DF_CompletedDates3 = DF_CompletedDates2.withColumn(\"Month\", month(\"CompletedDates\"))\n",
    "DF_CompletedDates4 = DF_CompletedDates3.groupBy(\"Month\").sum(\"count\").sort(\"Month\")\n",
    "\n",
    "DF_CompletedDates4.show()\n"
   ]
  },
  {
   "cell_type": "markdown",
   "metadata": {
    "application/vnd.databricks.v1+cell": {
     "cellMetadata": {
      "byteLimit": 2048000,
      "rowLimit": 10000
     },
     "inputWidgets": {},
     "nuid": "8b895f02-f86b-47d2-b7d2-161971b81302",
     "showTitle": false,
     "title": ""
    }
   },
   "source": [
    "#### Resulted Data Visualization"
   ]
  },
  {
   "cell_type": "code",
   "execution_count": 0,
   "metadata": {
    "application/vnd.databricks.v1+cell": {
     "cellMetadata": {
      "byteLimit": 2048000,
      "rowLimit": 10000
     },
     "inputWidgets": {},
     "nuid": "f65ab5c9-ece6-4aa2-9386-bcf938280114",
     "showTitle": false,
     "title": ""
    }
   },
   "outputs": [
    {
     "output_type": "display_data",
     "data": {
      "image/png": "[encoded data removed]"
     },
     "metadata": {
      "application/vnd.databricks.v1+output": {
       "addedWidgets": {},
       "arguments": {},
       "data": "data:image/png;base64,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\n",
       "datasetInfos": [],
       "metadata": {},
       "removedWidgets": [],
       "type": "image"
      }
     },
     "output_type": "display_data"
    }
   ],
   "source": [
    "import matplotlib.pyplot as plt\n",
    "\n",
    "x = DF_CompletedDates4.select('month').rdd.flatMap(lambda x: x).collect()  # Extracting month data\n",
    "y = DF_CompletedDates4.select('sum(count)').rdd.flatMap(lambda x: x).collect() \n",
    "\n",
    "plt.figure(figsize=(10, 6))\n",
    "plt.plot(x, y, marker='o', color='b', linestyle='-')\n",
    "\n",
    "plt.grid(True, linestyle='--', alpha=0.7)\n",
    "\n",
    "plt.title('Number of Studies Completed in 2023')\n",
    "plt.xlabel('Month')\n",
    "plt.ylabel('Number of Studies Completed')\n",
    "\n",
    "plt.xticks(x)\n",
    "\n",
    "plt.show()"
   ]
  }
 ],
 "metadata": {
  "application/vnd.databricks.v1+notebook": {
   "dashboards": [],
   "environmentMetadata": null,
   "language": "python",
   "notebookMetadata": {
    "pythonIndentUnit": 4
   },
   "notebookName": "Salman_Taj_DataFrame",
   "widgets": {}
  }
 },
 "nbformat": 4,
 "nbformat_minor": 0
}
